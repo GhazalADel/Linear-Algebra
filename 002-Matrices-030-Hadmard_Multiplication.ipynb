{
 "cells": [
  {
   "cell_type": "code",
   "execution_count": 7,
   "id": "b4776908-8d1a-4fc4-be44-51dc0cf2c36c",
   "metadata": {},
   "outputs": [],
   "source": [
    "import numpy as np"
   ]
  },
  {
   "cell_type": "code",
   "execution_count": 8,
   "id": "e9cad76e-d717-40ef-bae9-6d98a543240d",
   "metadata": {},
   "outputs": [
    {
     "name": "stdout",
     "output_type": "stream",
     "text": [
      "[[-1.76024773e+00  2.36910762e-02]\n",
      " [-4.02061378e-01 -5.82081403e-02]\n",
      " [-2.09863712e-02 -3.15628311e+00]\n",
      " [-1.15063661e-02  1.12487904e+00]\n",
      " [-2.20571965e+00  1.59339454e-02]\n",
      " [-1.06886397e+00  2.06102509e+00]\n",
      " [-1.66474931e+00 -3.09777966e-01]\n",
      " [ 3.59593077e-04  1.07138791e+00]\n",
      " [ 1.43554174e-02 -2.33707145e-02]\n",
      " [ 1.89340592e-02 -1.18249768e-01]\n",
      " [ 6.24183241e-01  5.43406812e-01]\n",
      " [-2.49389505e-01  5.47575148e-01]\n",
      " [-3.42008615e-01  5.61090709e-02]]\n",
      " \n",
      "[[-1.76024773e+00  2.36910762e-02]\n",
      " [-4.02061378e-01 -5.82081403e-02]\n",
      " [-2.09863712e-02 -3.15628311e+00]\n",
      " [-1.15063661e-02  1.12487904e+00]\n",
      " [-2.20571965e+00  1.59339454e-02]\n",
      " [-1.06886397e+00  2.06102509e+00]\n",
      " [-1.66474931e+00 -3.09777966e-01]\n",
      " [ 3.59593077e-04  1.07138791e+00]\n",
      " [ 1.43554174e-02 -2.33707145e-02]\n",
      " [ 1.89340592e-02 -1.18249768e-01]\n",
      " [ 6.24183241e-01  5.43406812e-01]\n",
      " [-2.49389505e-01  5.47575148e-01]\n",
      " [-3.42008615e-01  5.61090709e-02]]\n",
      " \n",
      "[[0. 0.]\n",
      " [0. 0.]\n",
      " [0. 0.]\n",
      " [0. 0.]\n",
      " [0. 0.]\n",
      " [0. 0.]\n",
      " [0. 0.]\n",
      " [0. 0.]\n",
      " [0. 0.]\n",
      " [0. 0.]\n",
      " [0. 0.]\n",
      " [0. 0.]\n",
      " [0. 0.]]\n"
     ]
    }
   ],
   "source": [
    "A = np.random.randn(13,2)\n",
    "B = np.random.randn(13,2)\n",
    "\n",
    "# note the different syntax compared to @ for matrix multiplication\n",
    "C1 = np.multiply( A,B )\n",
    "C2 = A*B\n",
    "\n",
    "print(C1), print(' ')\n",
    "print(C2), print(' ')\n",
    "\n",
    "print(C1-C2)"
   ]
  }
 ],
 "metadata": {
  "kernelspec": {
   "display_name": "Python 3 (ipykernel)",
   "language": "python",
   "name": "python3"
  },
  "language_info": {
   "codemirror_mode": {
    "name": "ipython",
    "version": 3
   },
   "file_extension": ".py",
   "mimetype": "text/x-python",
   "name": "python",
   "nbconvert_exporter": "python",
   "pygments_lexer": "ipython3",
   "version": "3.11.1"
  }
 },
 "nbformat": 4,
 "nbformat_minor": 5
}
