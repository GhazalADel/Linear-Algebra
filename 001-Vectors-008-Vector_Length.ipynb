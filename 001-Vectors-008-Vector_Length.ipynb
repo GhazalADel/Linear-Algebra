{
 "cells": [
  {
   "cell_type": "code",
   "execution_count": 4,
   "id": "e53f722d-7270-4f38-b03c-70c744b63554",
   "metadata": {},
   "outputs": [],
   "source": [
    "import numpy as np\n",
    "import matplotlib.pyplot as plt"
   ]
  },
  {
   "cell_type": "code",
   "execution_count": 12,
   "id": "4a343c81-e43f-4f94-8b6e-c0e4c7061b69",
   "metadata": {},
   "outputs": [
    {
     "name": "stdout",
     "output_type": "stream",
     "text": [
      "4.47213595499958 4.47213595499958\n"
     ]
    }
   ],
   "source": [
    "v = [2,4]\n",
    "\n",
    "#method 1\n",
    "vm_1 = np.sqrt(np.dot(v,v))\n",
    "\n",
    "#method 2\n",
    "vm_2 = np.linalg.norm(v)\n",
    "\n",
    "print(vm_1,vm_2)"
   ]
  }
 ],
 "metadata": {
  "kernelspec": {
   "display_name": "Python 3 (ipykernel)",
   "language": "python",
   "name": "python3"
  },
  "language_info": {
   "codemirror_mode": {
    "name": "ipython",
    "version": 3
   },
   "file_extension": ".py",
   "mimetype": "text/x-python",
   "name": "python",
   "nbconvert_exporter": "python",
   "pygments_lexer": "ipython3",
   "version": "3.11.1"
  }
 },
 "nbformat": 4,
 "nbformat_minor": 5
}
