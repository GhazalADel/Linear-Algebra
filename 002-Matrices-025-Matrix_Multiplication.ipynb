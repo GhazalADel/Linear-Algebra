{
 "cells": [
  {
   "cell_type": "code",
   "execution_count": 57,
   "id": "67f19370-ca16-4741-9312-4b0ce58dd56e",
   "metadata": {},
   "outputs": [],
   "source": [
    "import numpy as np"
   ]
  },
  {
   "cell_type": "code",
   "execution_count": 62,
   "id": "381c2c05-556e-4b84-a360-258b201cb3bb",
   "metadata": {},
   "outputs": [
    {
     "name": "stdout",
     "output_type": "stream",
     "text": [
      "\n"
     ]
    },
    {
     "data": {
      "text/plain": [
       "array([[-0.79163006, -1.16285153,  0.90319503,  1.33454285, -1.04796377,\n",
       "        -0.34387402],\n",
       "       [-0.67970012, -0.81053957,  3.15584397, -1.55957937,  0.71790955,\n",
       "        -1.04984123],\n",
       "       [-2.08995584, -0.32177222, -3.51668599,  1.84063896, -0.39734627,\n",
       "         1.16209048]])"
      ]
     },
     "execution_count": 62,
     "metadata": {},
     "output_type": "execute_result"
    }
   ],
   "source": [
    "A = np.random.randn(4,3)\n",
    "B = np.random.randn(3,6)\n",
    "C = np.random.randn(4,6)\n",
    "\n",
    "np.matmul(A,B)\n",
    "print('')\n",
    "np.matmul(A.T,C)"
   ]
  }
 ],
 "metadata": {
  "kernelspec": {
   "display_name": "Python 3 (ipykernel)",
   "language": "python",
   "name": "python3"
  },
  "language_info": {
   "codemirror_mode": {
    "name": "ipython",
    "version": 3
   },
   "file_extension": ".py",
   "mimetype": "text/x-python",
   "name": "python",
   "nbconvert_exporter": "python",
   "pygments_lexer": "ipython3",
   "version": "3.11.1"
  }
 },
 "nbformat": 4,
 "nbformat_minor": 5
}
