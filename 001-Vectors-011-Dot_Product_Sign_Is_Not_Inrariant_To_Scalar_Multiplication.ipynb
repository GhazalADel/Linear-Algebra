{
 "cells": [
  {
   "cell_type": "code",
   "execution_count": 37,
   "id": "12e5f105-29ab-4d92-838b-a030e26b0ccd",
   "metadata": {},
   "outputs": [],
   "source": [
    "import numpy as np"
   ]
  },
  {
   "cell_type": "code",
   "execution_count": 38,
   "id": "2ee68608-d068-4e67-87f0-e1310594a034",
   "metadata": {},
   "outputs": [
    {
     "name": "stdout",
     "output_type": "stream",
     "text": [
      "Without Scalars :  0  With Scalars :  0\n"
     ]
    }
   ],
   "source": [
    "# test whether the dot product sign is not inrariant to scalar multiplication\n",
    "\n",
    "# generate two vectors in R3\n",
    "v1 =np.array([-3,4,5])\n",
    "v2 = np.array([3,6,-3])\n",
    "\n",
    "#generate two scalars\n",
    "s1 = 2\n",
    "s2 = 3\n",
    "\n",
    "#compute the dot product between vectors\n",
    "dp_1 = np.dot(v1,v2)\n",
    "\n",
    "#compute the dot product between the scaled vectors\n",
    "dp_2 = np.dot(s1*v1,s2*v2)\n",
    "\n",
    "print(\"Without Scalars : \",dp_1,\" With Scalars : \",dp_2)\n"
   ]
  },
  {
   "cell_type": "code",
   "execution_count": null,
   "id": "4d703101-c706-412c-80c5-d51b7936c8b9",
   "metadata": {},
   "outputs": [],
   "source": []
  }
 ],
 "metadata": {
  "kernelspec": {
   "display_name": "Python 3 (ipykernel)",
   "language": "python",
   "name": "python3"
  },
  "language_info": {
   "codemirror_mode": {
    "name": "ipython",
    "version": 3
   },
   "file_extension": ".py",
   "mimetype": "text/x-python",
   "name": "python",
   "nbconvert_exporter": "python",
   "pygments_lexer": "ipython3",
   "version": "3.11.1"
  }
 },
 "nbformat": 4,
 "nbformat_minor": 5
}
