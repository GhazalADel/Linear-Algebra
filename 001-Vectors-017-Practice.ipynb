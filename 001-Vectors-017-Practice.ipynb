{
 "cells": [
  {
   "cell_type": "code",
   "execution_count": 25,
   "id": "009e2488-6f6a-4bfc-8aed-3430cf48f34b",
   "metadata": {},
   "outputs": [],
   "source": [
    "import numpy as np\n",
    "import matplotlib.pyplot as plt"
   ]
  },
  {
   "cell_type": "code",
   "execution_count": 35,
   "id": "6b8c4c2c-97fd-4d5a-ae4f-8f71725218f2",
   "metadata": {},
   "outputs": [
    {
     "name": "stdout",
     "output_type": "stream",
     "text": [
      "[9 3 7 3] [2 4 0 8]\n",
      "12.165525060596439 9.16515138991168\n",
      "54\n",
      "[0.73979544 0.24659848 0.57539646 0.24659848] [0.21821789 0.43643578 0.         0.87287156]\n",
      "1.0 1.0\n"
     ]
    }
   ],
   "source": [
    "# Create two random-integer vectors (R4)\n",
    "n = 4\n",
    "v1 = np.random.randint(10,size=n)\n",
    "v2 = np.random.randint(10,size=n)\n",
    "print(v1,v2)\n",
    "\n",
    "# compute the lenghts of the individual vectors\n",
    "l1 = np.linalg.norm(v1)\n",
    "l2 = np.linalg.norm(v2)\n",
    "print(l1,l2)\n",
    "\n",
    "# magnitude dot product\n",
    "dp = np.abs(np.dot(v1,v2))\n",
    "print(dp)\n",
    "\n",
    "# normalize the vectors\n",
    "u1 = 1/(l1)\n",
    "u2 = 1/(l2)\n",
    "v1u = v1*u1\n",
    "v2u = v2*u2\n",
    "print(v1u,v2u)\n",
    "print(np.linalg.norm(v1u),np.linalg.norm(v2u))"
   ]
  }
 ],
 "metadata": {
  "kernelspec": {
   "display_name": "Python 3 (ipykernel)",
   "language": "python",
   "name": "python3"
  },
  "language_info": {
   "codemirror_mode": {
    "name": "ipython",
    "version": 3
   },
   "file_extension": ".py",
   "mimetype": "text/x-python",
   "name": "python",
   "nbconvert_exporter": "python",
   "pygments_lexer": "ipython3",
   "version": "3.11.1"
  }
 },
 "nbformat": 4,
 "nbformat_minor": 5
}
