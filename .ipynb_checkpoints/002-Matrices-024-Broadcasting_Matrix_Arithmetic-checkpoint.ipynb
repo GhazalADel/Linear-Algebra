{
 "cells": [
  {
   "cell_type": "code",
   "execution_count": 38,
   "id": "179250a1-f6ed-4d58-8818-61d9ca819094",
   "metadata": {},
   "outputs": [],
   "source": [
    "import numpy as np"
   ]
  },
  {
   "cell_type": "code",
   "execution_count": 56,
   "id": "56ba7d88-6880-4404-a998-8b7bcf989077",
   "metadata": {},
   "outputs": [
    {
     "name": "stdout",
     "output_type": "stream",
     "text": [
      "[[ 1  4  7 10]\n",
      " [ 2  5  8 11]\n",
      " [ 3  6  9 12]]\n",
      "[[11 24 37 50]\n",
      " [12 25 38 51]\n",
      " [13 26 39 52]]\n",
      "[[101 104 107 110]\n",
      " [202 205 208 211]\n",
      " [303 306 309 312]]\n"
     ]
    }
   ],
   "source": [
    "A = np.reshape(np.arange(1,13),(3,4),'F') # F=column, C=row\n",
    "print(A)\n",
    "\n",
    "# vectors\n",
    "r = [10,20,30,40]\n",
    "c = [100,200,300]\n",
    "\n",
    "# broadcast on the rows\n",
    "print(A+r)\n",
    "\n",
    "# broadcast on the columns\n",
    "# print(A+c) # got error\n",
    "print(A+np.reshape(c,(len(c),1)))"
   ]
  },
  {
   "cell_type": "code",
   "execution_count": null,
   "id": "b4bbecce-a287-4b59-99d7-42ff610fd190",
   "metadata": {},
   "outputs": [],
   "source": []
  }
 ],
 "metadata": {
  "kernelspec": {
   "display_name": "Python 3 (ipykernel)",
   "language": "python",
   "name": "python3"
  },
  "language_info": {
   "codemirror_mode": {
    "name": "ipython",
    "version": 3
   },
   "file_extension": ".py",
   "mimetype": "text/x-python",
   "name": "python",
   "nbconvert_exporter": "python",
   "pygments_lexer": "ipython3",
   "version": "3.11.1"
  }
 },
 "nbformat": 4,
 "nbformat_minor": 5
}
