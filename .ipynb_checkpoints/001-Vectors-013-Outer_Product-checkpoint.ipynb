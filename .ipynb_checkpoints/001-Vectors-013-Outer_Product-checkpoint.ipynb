{
 "cells": [
  {
   "cell_type": "code",
   "execution_count": 42,
   "id": "517e976c-e69e-4079-99ca-2727e85d5ef7",
   "metadata": {},
   "outputs": [],
   "source": [
    "import numpy as np"
   ]
  },
  {
   "cell_type": "code",
   "execution_count": 44,
   "id": "4fd8c5bc-81fd-46ab-acb8-6613c65453d4",
   "metadata": {},
   "outputs": [
    {
     "name": "stdout",
     "output_type": "stream",
     "text": [
      "[[-1  0  1]\n",
      " [-2  0  2]\n",
      " [-3  0  3]]\n",
      "\n",
      "\n",
      "[[-1.  0.  1.]\n",
      " [-2.  0.  2.]\n",
      " [-3.  0.  3.]]\n"
     ]
    }
   ],
   "source": [
    "# define vectors\n",
    "v1 = np.array([1,2,3])\n",
    "v2 = np.array([-1,0,1])\n",
    "\n",
    "# method 1\n",
    "vm_1 = np.outer(v1,v2)\n",
    "\n",
    "# method 2\n",
    "# BAD\n",
    "vm_2 = np.zeros((len(v1),len(v2)))\n",
    "for i in range(0,len(v1)):\n",
    "    for j in range(0,len(v2)):\n",
    "        vm_2[i,j]=v1[i]*v2[j]\n",
    "\n",
    "print(vm_1)\n",
    "print('\\n')\n",
    "print(vm_2)"
   ]
  }
 ],
 "metadata": {
  "kernelspec": {
   "display_name": "Python 3 (ipykernel)",
   "language": "python",
   "name": "python3"
  },
  "language_info": {
   "codemirror_mode": {
    "name": "ipython",
    "version": 3
   },
   "file_extension": ".py",
   "mimetype": "text/x-python",
   "name": "python",
   "nbconvert_exporter": "python",
   "pygments_lexer": "ipython3",
   "version": "3.11.1"
  }
 },
 "nbformat": 4,
 "nbformat_minor": 5
}
