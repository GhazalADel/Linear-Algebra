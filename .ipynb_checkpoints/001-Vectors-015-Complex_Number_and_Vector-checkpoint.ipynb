{
 "cells": [
  {
   "cell_type": "code",
   "execution_count": 3,
   "id": "13821379-58f8-4d31-bf36-c99b79d6dd00",
   "metadata": {},
   "outputs": [],
   "source": [
    "import numpy as np\n",
    "import matplotlib.pyplot as plt"
   ]
  },
  {
   "cell_type": "code",
   "execution_count": 12,
   "id": "1c4912c5-1e61-4eb1-a6ff-c529d4dba6e6",
   "metadata": {},
   "outputs": [
    {
     "name": "stdout",
     "output_type": "stream",
     "text": [
      "(3+4j)\n",
      "5.0\n",
      "(-7+24j)\n",
      "(25+0j)\n",
      "(25+0j)\n"
     ]
    }
   ],
   "source": [
    "# create a complex number\n",
    "z = complex(3,4)\n",
    "print(z)\n",
    "\n",
    "# magnitude\n",
    "# it handles complex numbers correctly\n",
    "print(np.linalg.norm(z))\n",
    "\n",
    "# proof that regular transpose does not work for complex number\n",
    "print(np.transpose(z)*z)\n",
    "\n",
    "# hermitian transpose\n",
    "print(np.transpose(z.conjugate())*z)\n",
    "print(z.conjugate()*z)"
   ]
  },
  {
   "cell_type": "code",
   "execution_count": 17,
   "id": "b58523c1-fc86-457a-a03b-c2fc6dc70d91",
   "metadata": {},
   "outputs": [
    {
     "name": "stdout",
     "output_type": "stream",
     "text": [
      "[3.+0.j 0.+4.j 5.+2.j 2.-5.j]\n",
      "[3.+0.j 0.+4.j 5.+2.j 2.-5.j]\n",
      "[3.-0.j 0.-4.j 5.-2.j 2.+5.j]\n"
     ]
    }
   ],
   "source": [
    "# complex vector\n",
    "v = np.array([3,4j,5+2j,complex(2,-5)])\n",
    "\n",
    "# transpose vector\n",
    "# method 1\n",
    "print(v.T)\n",
    "# method 2\n",
    "print(np.transpose(v))\n",
    "\n",
    "# conjugate\n",
    "print(np.transpose(v.conjugate()))"
   ]
  }
 ],
 "metadata": {
  "kernelspec": {
   "display_name": "Python 3 (ipykernel)",
   "language": "python",
   "name": "python3"
  },
  "language_info": {
   "codemirror_mode": {
    "name": "ipython",
    "version": 3
   },
   "file_extension": ".py",
   "mimetype": "text/x-python",
   "name": "python",
   "nbconvert_exporter": "python",
   "pygments_lexer": "ipython3",
   "version": "3.11.1"
  }
 },
 "nbformat": 4,
 "nbformat_minor": 5
}
