{
 "cells": [
  {
   "cell_type": "code",
   "execution_count": 1,
   "id": "2c40a3a8-3f2d-4df4-9ed4-248a9e577e45",
   "metadata": {},
   "outputs": [],
   "source": [
    "import numpy as np\n",
    "import matplotlib.pyplot as plt"
   ]
  },
  {
   "cell_type": "code",
   "execution_count": 4,
   "id": "feecc970-2393-444d-a55f-d0cb066813ec",
   "metadata": {},
   "outputs": [
    {
     "name": "stdout",
     "output_type": "stream",
     "text": [
      "61 61 61 61\n"
     ]
    }
   ],
   "source": [
    "#define vectors\n",
    "v1 = np.array([1,4,2,-2,8])\n",
    "v2 = np.array([3,9,7,-4,0])\n",
    "\n",
    "#calculate dot product\n",
    "#method 1\n",
    "dp_1 = sum (np.multiply(v1,v2))\n",
    "\n",
    "#method 2\n",
    "#Good\n",
    "dp_2 = np.dot(v1,v2)\n",
    "\n",
    "#method 3\n",
    "dp_3=np.matmul(v1,v2) #matmul stands for `matrix multiplication`\n",
    "\n",
    "#method 4\n",
    "#BAD\n",
    "dp_4 =0\n",
    "for i in range(len(v1)):\n",
    "    dp_4+= (v1[i] * v2[i])\n",
    "\n",
    "print(dp_1,dp_2,dp_3,dp_4)"
   ]
  }
 ],
 "metadata": {
  "kernelspec": {
   "display_name": "Python 3 (ipykernel)",
   "language": "python",
   "name": "python3"
  },
  "language_info": {
   "codemirror_mode": {
    "name": "ipython",
    "version": 3
   },
   "file_extension": ".py",
   "mimetype": "text/x-python",
   "name": "python",
   "nbconvert_exporter": "python",
   "pygments_lexer": "ipython3",
   "version": "3.11.1"
  }
 },
 "nbformat": 4,
 "nbformat_minor": 5
}
