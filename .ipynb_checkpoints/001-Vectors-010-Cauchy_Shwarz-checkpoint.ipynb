{
 "cells": [
  {
   "cell_type": "code",
   "execution_count": 26,
   "id": "3a16e9b3-8b7a-4865-ac4f-2baba5ab5183",
   "metadata": {},
   "outputs": [],
   "source": [
    "import numpy as np\n",
    "import matplotlib.pyplot as plt"
   ]
  },
  {
   "cell_type": "code",
   "execution_count": 32,
   "id": "ac54199d-ed2f-44b8-9e54-818fe33db632",
   "metadata": {},
   "outputs": [
    {
     "name": "stdout",
     "output_type": "stream",
     "text": [
      "2.9777,6.7970\n",
      "9.8380,9.8380\n"
     ]
    }
   ],
   "source": [
    "n = 5\n",
    "v1 = np.random.randn(n)\n",
    "v2 = np.random.randn(n)\n",
    "v3 = np.random.randn(1) * v1 #v1 and v3 is dependent and the angle between them is zero\n",
    "\n",
    "v1Tv2 = np.abs(np.dot(v1,v2))\n",
    "v1v2=np.linalg.norm(v1)* np.linalg.norm(v2)\n",
    "\n",
    "v1Tv3 = np.abs(np.dot(v1,v3))\n",
    "v1v3=np.linalg.norm(v1)* np.linalg.norm(v3)\n",
    "\n",
    "print(f'{v1Tv2:.4f},{v1v2:.4f}') #inequality (mostly)\n",
    "print(f'{v1Tv3:.4f},{v1v3:.4f}') # always equality"
   ]
  }
 ],
 "metadata": {
  "kernelspec": {
   "display_name": "Python 3 (ipykernel)",
   "language": "python",
   "name": "python3"
  },
  "language_info": {
   "codemirror_mode": {
    "name": "ipython",
    "version": 3
   },
   "file_extension": ".py",
   "mimetype": "text/x-python",
   "name": "python",
   "nbconvert_exporter": "python",
   "pygments_lexer": "ipython3",
   "version": "3.11.1"
  }
 },
 "nbformat": 4,
 "nbformat_minor": 5
}
