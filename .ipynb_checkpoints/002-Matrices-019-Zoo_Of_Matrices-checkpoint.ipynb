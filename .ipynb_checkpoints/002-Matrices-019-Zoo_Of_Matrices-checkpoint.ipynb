{
 "cells": [
  {
   "cell_type": "code",
   "execution_count": 1,
   "id": "63661c9b-dc57-4730-b758-be408451d3eb",
   "metadata": {},
   "outputs": [],
   "source": [
    "import numpy as np"
   ]
  },
  {
   "cell_type": "code",
   "execution_count": 10,
   "id": "e2ee9e7c-c085-4467-9feb-1c89f93305d8",
   "metadata": {},
   "outputs": [
    {
     "name": "stdout",
     "output_type": "stream",
     "text": [
      "[[-0.56102269  0.31172511 -1.11599747 -1.01230634  1.63772362]\n",
      " [ 0.54799482  0.16934315 -1.12962606 -0.50334873  0.85408542]\n",
      " [ 0.72271488 -0.03705933  0.60273414  1.89134517 -0.63125301]\n",
      " [ 0.998352   -0.00444526 -0.03090511 -0.68485901 -2.01980773]\n",
      " [ 1.25645768  0.83444796  0.36295653 -0.1177249   0.56769228]]\n",
      "\n",
      "[[ 1.44834355  0.88608232]\n",
      " [ 1.37388749  1.42421382]\n",
      " [-1.42806799 -0.41234017]\n",
      " [-0.84225164  1.98474333]\n",
      " [ 2.64008665 -0.5428612 ]]\n",
      "[[1. 0. 0.]\n",
      " [0. 1. 0.]\n",
      " [0. 0. 1.]]\n",
      "\n",
      "[[0. 0. 0. 0.]\n",
      " [0. 0. 0. 0.]\n",
      " [0. 0. 0. 0.]\n",
      " [0. 0. 0. 0.]]\n",
      "\n",
      "[[1 0 0 0 0]\n",
      " [0 2 0 0 0]\n",
      " [0 0 3 0 0]\n",
      " [0 0 0 5 0]\n",
      " [0 0 0 0 2]]\n",
      "\n",
      "[[ 1.77074832  1.63063234 -1.11212277  0.39865148  0.56294023]\n",
      " [ 0.         -0.02366778 -1.12919666  0.45621989  1.03438791]\n",
      " [ 0.          0.          1.3124291  -1.25063661 -0.12597766]\n",
      " [ 0.          0.          0.         -0.80897773  0.676079  ]\n",
      " [ 0.          0.          0.          0.          1.00120727]]\n",
      "\n",
      "[[ 1.77074832  0.          0.          0.          0.        ]\n",
      " [-2.23791435 -0.02366778  0.          0.          0.        ]\n",
      " [ 1.56100834  0.47869419  1.3124291   0.          0.        ]\n",
      " [ 0.93237649  0.49628206 -1.21716782 -0.80897773  0.        ]\n",
      " [-0.22650226 -0.15536497 -1.91208614  0.33874328  1.00120727]]\n",
      "[[-1.21557684 -1.06133129 -1.44058076  0.06724339  0.15799859  0.49043086]\n",
      " [-1.15253116  0.09693507 -0.23044819  0.48033016 -0.03728773  0.29887411]\n",
      " [-0.10492373 -1.47750535  0.36224688  0.43813446  0.25677138  1.24106226]]\n"
     ]
    }
   ],
   "source": [
    "# square vs rectangular matrix\n",
    "S = np.random.randn(5,5)\n",
    "R = np.random.randn(5,2) # 5 rows and 2 columns\n",
    "print(S)\n",
    "print('')\n",
    "print(R)\n",
    "\n",
    "#identity matrix\n",
    "I = np.eye(3)\n",
    "print(I)\n",
    "print('')\n",
    "\n",
    "# zeros\n",
    "Z = np.zeros((4,4))\n",
    "print(Z)\n",
    "print('')\n",
    "\n",
    "# diagonal\n",
    "D = np.diag([1,2,3,5,2])\n",
    "print(D)\n",
    "print('')\n",
    "\n",
    "# triangular matrix from full matrices\n",
    "S = np.random.randn(5,5)\n",
    "U = np.triu(S)\n",
    "L = np.tril(S)\n",
    "print(U)\n",
    "print('')\n",
    "print(L)\n",
    "\n",
    "# concatenate matrices\n",
    "# size must match\n",
    "A = np.random.randn(3,2)\n",
    "B = np.random.randn(3,4)\n",
    "C = np.concatenate((A,B),axis=1)\n",
    "print(C)"
   ]
  }
 ],
 "metadata": {
  "kernelspec": {
   "display_name": "Python 3 (ipykernel)",
   "language": "python",
   "name": "python3"
  },
  "language_info": {
   "codemirror_mode": {
    "name": "ipython",
    "version": 3
   },
   "file_extension": ".py",
   "mimetype": "text/x-python",
   "name": "python",
   "nbconvert_exporter": "python",
   "pygments_lexer": "ipython3",
   "version": "3.11.1"
  }
 },
 "nbformat": 4,
 "nbformat_minor": 5
}
