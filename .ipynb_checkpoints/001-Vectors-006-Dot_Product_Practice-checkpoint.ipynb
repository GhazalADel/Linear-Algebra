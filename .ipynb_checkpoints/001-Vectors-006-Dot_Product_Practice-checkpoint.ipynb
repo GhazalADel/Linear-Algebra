{
 "cells": [
  {
   "cell_type": "code",
   "execution_count": 23,
   "id": "d6d04961-7bbb-4b66-8366-4a4e931553f0",
   "metadata": {},
   "outputs": [],
   "source": [
    "import numpy as np\n",
    "import matplotlib.pyplot as plt"
   ]
  },
  {
   "cell_type": "code",
   "execution_count": 32,
   "id": "1048f3fc-8445-4afe-ad60-82c9327851ac",
   "metadata": {},
   "outputs": [
    {
     "name": "stdout",
     "output_type": "stream",
     "text": [
      "First Matrix :  [[ 0.33309109 -1.16756481 -1.7966085  -0.25117569  0.67063861 -0.57475793]\n",
      " [ 0.41750475  0.37471673 -0.64535931  1.4179751  -0.83413619 -0.27517428]\n",
      " [-0.5454035  -0.8275854   0.30975439  2.22428487 -0.10955726 -0.73710775]\n",
      " [ 0.31707231  1.63234643 -0.14342983  1.03258233  1.18314311 -0.42651522]]\n",
      "Second Matrix :  [[-0.67182706  1.44890898 -0.27956889 -0.26986917 -0.40974856  1.34746983]\n",
      " [-1.96623591 -0.69272398 -0.08361079 -0.12523404  1.27067173 -0.02584949]\n",
      " [ 0.66165857  0.74156219  1.22673072  0.53165274  1.15151512 -1.07194407]\n",
      " [-0.8594714   0.84627575 -0.80398259 -0.21290792  0.37645525  0.71650663]]\n",
      "[-1.67807792 -1.18356124  1.05153516  0.85290803 -1.01546289 -0.28281855]\n"
     ]
    }
   ],
   "source": [
    "#create a 4x6 matrices of random numbers.compute dot products between corresponding columns.\n",
    "#create matrices with random float numbers\n",
    "m1 = np.random.randn(4,6)\n",
    "m2 = np.random.randn(4,6)\n",
    "\n",
    "dp = np.zeros(6)\n",
    "for i in range(6):\n",
    "    dp[i] = np.dot(m1[:,i],m2[:,i])\n",
    "\n",
    "print(\"First Matrix : \",m1)\n",
    "print(\"Second Matrix : \",m2)\n",
    "print(dp)\n"
   ]
  },
  {
   "cell_type": "code",
   "execution_count": null,
   "id": "1c261200-09f1-429c-a383-f72ac957c335",
   "metadata": {},
   "outputs": [],
   "source": []
  }
 ],
 "metadata": {
  "kernelspec": {
   "display_name": "Python 3 (ipykernel)",
   "language": "python",
   "name": "python3"
  },
  "language_info": {
   "codemirror_mode": {
    "name": "ipython",
    "version": 3
   },
   "file_extension": ".py",
   "mimetype": "text/x-python",
   "name": "python",
   "nbconvert_exporter": "python",
   "pygments_lexer": "ipython3",
   "version": "3.11.1"
  }
 },
 "nbformat": 4,
 "nbformat_minor": 5
}
