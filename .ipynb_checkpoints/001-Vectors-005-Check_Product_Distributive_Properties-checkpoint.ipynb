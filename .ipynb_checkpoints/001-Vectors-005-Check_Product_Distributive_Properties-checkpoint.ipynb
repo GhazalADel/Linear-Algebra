{
 "cells": [
  {
   "cell_type": "code",
   "execution_count": 5,
   "id": "6e05c953-bd8d-4f7b-9e1a-b2ec5ad187ca",
   "metadata": {},
   "outputs": [],
   "source": [
    "import numpy as np\n",
    "import matplotlib.pyplot as plt"
   ]
  },
  {
   "cell_type": "code",
   "execution_count": 20,
   "id": "9e5a702a-e6e3-46fd-8da7-f3d9bc35a9e7",
   "metadata": {},
   "outputs": [
    {
     "name": "stdout",
     "output_type": "stream",
     "text": [
      "Is Distributive :  True\n"
     ]
    }
   ],
   "source": [
    "#generate 3 random vectors with 5 elements\n",
    "n = 5\n",
    "v1 = np.random.randint(10,size=n)\n",
    "v2 = np.random.randint(10,size=n)\n",
    "v3 = np.random.randint(10,size=n)\n",
    "\n",
    "#check distributive property\n",
    "dis1 = np.dot(v1,(v2+v3))\n",
    "dis2 = np.dot(v1,v2) + np.dot(v1,v3)\n",
    "print(\"Is Distributive : \",dis1==dis2)"
   ]
  },
  {
   "cell_type": "code",
   "execution_count": 22,
   "id": "6e0a1121-a80a-4997-a3e0-9ea204f07150",
   "metadata": {},
   "outputs": [
    {
     "name": "stdout",
     "output_type": "stream",
     "text": [
      "Is Associative :  [False False False False False]\n"
     ]
    }
   ],
   "source": [
    "#generate 3 random vectors with 5 elements\n",
    "n = 5\n",
    "v1 = np.random.randint(10,size=n)\n",
    "v2 = np.random.randint(10,size=n)\n",
    "v3 = np.random.randint(10,size=n)\n",
    "\n",
    "#check associative property\n",
    "dis1 = np.dot(v1,np.dot(v2,v3))\n",
    "dis2 = np.dot(np.dot(v1,v2),v3)\n",
    "print(\"Is Associative : \",dis1==dis2)"
   ]
  },
  {
   "cell_type": "code",
   "execution_count": null,
   "id": "5a146822-1a57-4c8c-baed-b74a89692877",
   "metadata": {},
   "outputs": [],
   "source": []
  }
 ],
 "metadata": {
  "kernelspec": {
   "display_name": "Python 3 (ipykernel)",
   "language": "python",
   "name": "python3"
  },
  "language_info": {
   "codemirror_mode": {
    "name": "ipython",
    "version": 3
   },
   "file_extension": ".py",
   "mimetype": "text/x-python",
   "name": "python",
   "nbconvert_exporter": "python",
   "pygments_lexer": "ipython3",
   "version": "3.11.1"
  }
 },
 "nbformat": 4,
 "nbformat_minor": 5
}
