{
 "cells": [
  {
   "cell_type": "code",
   "execution_count": 63,
   "id": "6385d932-9bac-4ee9-9d98-450b31b92482",
   "metadata": {},
   "outputs": [],
   "source": [
    "import numpy as np"
   ]
  },
  {
   "cell_type": "code",
   "execution_count": 65,
   "id": "a4a21fdf-4c6c-4225-8a1e-fc67ca5f0a6b",
   "metadata": {},
   "outputs": [
    {
     "data": {
      "text/plain": [
       "array([[ 0.00000000e+00, -3.55271368e-15, -4.44089210e-15,\n",
       "         3.55271368e-15,  0.00000000e+00,  3.55271368e-15,\n",
       "         1.77635684e-15],\n",
       "       [ 1.77635684e-15, -7.10542736e-15,  1.77635684e-15,\n",
       "         1.24344979e-14,  1.55431223e-15, -3.55271368e-15,\n",
       "        -3.55271368e-15],\n",
       "       [ 0.00000000e+00, -2.66453526e-15, -1.77635684e-15,\n",
       "         7.10542736e-15,  1.11022302e-15,  0.00000000e+00,\n",
       "        -1.77635684e-15],\n",
       "       [ 0.00000000e+00,  0.00000000e+00,  0.00000000e+00,\n",
       "        -3.55271368e-15,  0.00000000e+00, -3.55271368e-15,\n",
       "        -2.22044605e-15],\n",
       "       [-4.44089210e-15,  3.55271368e-15,  4.44089210e-16,\n",
       "        -3.55271368e-15,  0.00000000e+00, -1.77635684e-15,\n",
       "        -1.77635684e-15],\n",
       "       [-8.88178420e-16,  8.88178420e-16,  1.11022302e-16,\n",
       "         1.41553436e-15, -3.33066907e-16,  0.00000000e+00,\n",
       "        -6.66133815e-16],\n",
       "       [-4.44089210e-16, -2.22044605e-15,  1.55431223e-15,\n",
       "         0.00000000e+00, -1.33226763e-15, -2.22044605e-16,\n",
       "        -8.88178420e-16]])"
      ]
     },
     "execution_count": 65,
     "metadata": {},
     "output_type": "execute_result"
    }
   ],
   "source": [
    "n = 7\n",
    "L = np.random.randn(n,n)\n",
    "I = np.random.randn(n,n)\n",
    "V = np.random.randn(n,n)\n",
    "E = np.random.randn(n,n)\n",
    "\n",
    "res1 = np.matrix.transpose(L @ I @ V @ E)\n",
    "res2 = E.T @ V.T @ I.T @ L.T\n",
    "\n",
    "res1-res2 #the value of elements are so tiny"
   ]
  }
 ],
 "metadata": {
  "kernelspec": {
   "display_name": "Python 3 (ipykernel)",
   "language": "python",
   "name": "python3"
  },
  "language_info": {
   "codemirror_mode": {
    "name": "ipython",
    "version": 3
   },
   "file_extension": ".py",
   "mimetype": "text/x-python",
   "name": "python",
   "nbconvert_exporter": "python",
   "pygments_lexer": "ipython3",
   "version": "3.11.1"
  }
 },
 "nbformat": 4,
 "nbformat_minor": 5
}
