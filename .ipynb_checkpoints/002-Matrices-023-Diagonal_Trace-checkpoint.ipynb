{
 "cells": [
  {
   "cell_type": "code",
   "execution_count": 30,
   "id": "f3219096-fac0-4252-8783-2b6d91577f6c",
   "metadata": {},
   "outputs": [],
   "source": [
    "import numpy as np"
   ]
  },
  {
   "cell_type": "code",
   "execution_count": 34,
   "id": "bbed6442-1d1f-4443-8daf-5a7ad2eead2e",
   "metadata": {},
   "outputs": [
    {
     "name": "stdout",
     "output_type": "stream",
     "text": [
      "[[  6.  -1.  -3.  11.]\n",
      " [-15.   0.  -1.  -1.]\n",
      " [ -6.  -2.   6.   4.]\n",
      " [ -5.  -0.  -6. -10.]]\n",
      "\n",
      "[  6.   0.   6. -10.]\n",
      "\n",
      "[[  6.   0.   0.   0.]\n",
      " [  0.   0.   0.   0.]\n",
      " [  0.   0.   6.   0.]\n",
      " [  0.   0.   0. -10.]]\n",
      "\n",
      "2.0 2.0\n"
     ]
    }
   ],
   "source": [
    "M = np.round(5 * np.random.randn(4,4))\n",
    "print(M)\n",
    "print('')\n",
    "d = np.diag(M) # input is matrix, output is vector\n",
    "print(d)\n",
    "print('')\n",
    "D = np.diag(d) # input is vector, output is matrix\n",
    "print(D)\n",
    "print('')\n",
    "\n",
    "tr = np.trace(M)\n",
    "tr2 = sum(np.diag(M))\n",
    "print(tr,tr2)"
   ]
  }
 ],
 "metadata": {
  "kernelspec": {
   "display_name": "Python 3 (ipykernel)",
   "language": "python",
   "name": "python3"
  },
  "language_info": {
   "codemirror_mode": {
    "name": "ipython",
    "version": 3
   },
   "file_extension": ".py",
   "mimetype": "text/x-python",
   "name": "python",
   "nbconvert_exporter": "python",
   "pygments_lexer": "ipython3",
   "version": "3.11.1"
  }
 },
 "nbformat": 4,
 "nbformat_minor": 5
}
