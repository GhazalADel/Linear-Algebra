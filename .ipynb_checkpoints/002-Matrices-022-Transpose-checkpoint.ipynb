{
 "cells": [
  {
   "cell_type": "code",
   "execution_count": 20,
   "id": "9034f162-c5af-49f2-a974-b718e1418484",
   "metadata": {},
   "outputs": [],
   "source": [
    "import numpy as np"
   ]
  },
  {
   "cell_type": "code",
   "execution_count": 26,
   "id": "4f1f3239-979e-4783-a02d-e00be4d35d9f",
   "metadata": {},
   "outputs": [
    {
     "name": "stdout",
     "output_type": "stream",
     "text": [
      "[[1 2 3]\n",
      " [2 3 4]]\n",
      "\n",
      "[[1 2]\n",
      " [2 3]\n",
      " [3 4]]\n",
      "\n",
      "[[1 2]\n",
      " [2 3]\n",
      " [3 4]]\n",
      "\n",
      "[[1 2 3]\n",
      " [2 3 4]]\n",
      "\n"
     ]
    }
   ],
   "source": [
    "M = np.array([[1,2,3],[2,3,4]])\n",
    "print(M)\n",
    "print('')\n",
    "# method 1\n",
    "print(M.T) # one transpose\n",
    "print('')\n",
    "# method 2\n",
    "print(np.transpose(M))\n",
    "print('')\n",
    "print(M.T.T) # one transpose\n",
    "print('')"
   ]
  },
  {
   "cell_type": "code",
   "execution_count": 29,
   "id": "a9fe0b5c-85ee-42fa-acf9-a6530a4d3616",
   "metadata": {},
   "outputs": [
    {
     "name": "stdout",
     "output_type": "stream",
     "text": [
      "[[4.+1.j 3.+0.j 2.-4.j]]\n",
      "\n",
      "[[4.+1.j]\n",
      " [3.+0.j]\n",
      " [2.-4.j]]\n",
      "\n",
      "[[4.+1.j]\n",
      " [3.+0.j]\n",
      " [2.-4.j]]\n",
      "\n",
      "[[4.-1.j]\n",
      " [3.-0.j]\n",
      " [2.+4.j]]\n"
     ]
    }
   ],
   "source": [
    "# complex matrices\n",
    "C = np.array([[4+1j,3,2-4j]])\n",
    "print(C)\n",
    "print('')\n",
    "print(C.T)\n",
    "print('')\n",
    "print(np.transpose(C))\n",
    "print('')\n",
    "# hermition transpose\n",
    "print(np.matrix(C).H)"
   ]
  }
 ],
 "metadata": {
  "kernelspec": {
   "display_name": "Python 3 (ipykernel)",
   "language": "python",
   "name": "python3"
  },
  "language_info": {
   "codemirror_mode": {
    "name": "ipython",
    "version": 3
   },
   "file_extension": ".py",
   "mimetype": "text/x-python",
   "name": "python",
   "nbconvert_exporter": "python",
   "pygments_lexer": "ipython3",
   "version": "3.11.1"
  }
 },
 "nbformat": 4,
 "nbformat_minor": 5
}
