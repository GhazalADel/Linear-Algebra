{
 "cells": [
  {
   "cell_type": "code",
   "execution_count": 2,
   "id": "79bc7484-7e7f-4acb-8bab-b32f1443ed96",
   "metadata": {},
   "outputs": [],
   "source": [
    "import numpy as np\n",
    "import matplotlib.pyplot as plt"
   ]
  },
  {
   "cell_type": "code",
   "execution_count": 3,
   "id": "a9b2801d-daa0-4384-bfa9-b1e4827054e4",
   "metadata": {},
   "outputs": [
    {
     "name": "stdout",
     "output_type": "stream",
     "text": [
      "Is Communicative ?  True\n",
      "Is Communicative ?  True\n"
     ]
    }
   ],
   "source": [
    "#generate two 100-element random row vectors\n",
    "v1 = np.random.randn(100)\n",
    "v2 = np.random.randn(100)\n",
    "\n",
    "#calculate dot product\n",
    "vm_1 = np.dot(v1,v2)\n",
    "vm_2 = np.dot(v2,v1)\n",
    "\n",
    "print(\"Is Communicative ? \",vm_1==vm_2)\n",
    "\n",
    "#check with two vectors with two elements\n",
    "v3 = [1,8]\n",
    "v4 = [-10,3]\n",
    "\n",
    "vm_3 = np.dot(v3,v4)\n",
    "vm_4 = np.dot(v4,v3)\n",
    "\n",
    "print(\"Is Communicative ? \",vm_3==vm_4)"
   ]
  },
  {
   "cell_type": "code",
   "execution_count": null,
   "id": "f983b6e1-7a6d-4ca4-bb65-cc3e62418e24",
   "metadata": {},
   "outputs": [],
   "source": []
  }
 ],
 "metadata": {
  "kernelspec": {
   "display_name": "Python 3 (ipykernel)",
   "language": "python",
   "name": "python3"
  },
  "language_info": {
   "codemirror_mode": {
    "name": "ipython",
    "version": 3
   },
   "file_extension": ".py",
   "mimetype": "text/x-python",
   "name": "python",
   "nbconvert_exporter": "python",
   "pygments_lexer": "ipython3",
   "version": "3.11.1"
  }
 },
 "nbformat": 4,
 "nbformat_minor": 5
}
