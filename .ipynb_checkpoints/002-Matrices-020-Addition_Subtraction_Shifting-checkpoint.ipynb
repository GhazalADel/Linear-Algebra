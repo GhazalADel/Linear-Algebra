{
 "cells": [
  {
   "cell_type": "code",
   "execution_count": 11,
   "id": "e3351f3b-0af4-4d3f-ae60-8a2d2419414b",
   "metadata": {},
   "outputs": [],
   "source": [
    "import numpy as np"
   ]
  },
  {
   "cell_type": "code",
   "execution_count": 13,
   "id": "3fe14993-84e5-42b3-9f90-34b7a4555389",
   "metadata": {},
   "outputs": [
    {
     "name": "stdout",
     "output_type": "stream",
     "text": [
      "[[-3.00364189  0.41653081 -0.73641665  1.04598405]\n",
      " [-0.82441398 -0.05508394 -1.31049389  1.93873512]\n",
      " [-0.96727457  0.26750943  0.39473156  2.73163292]]\n",
      "[[ 0.95341775  0.04294912  0.89011591 -0.21196944  0.48578253]\n",
      " [-1.75885015  0.93633597  0.87037692  1.01646949  0.12099941]\n",
      " [ 1.40609388  2.75974045  1.73454691 -0.40770553 -0.46528305]\n",
      " [-0.39232558 -0.27219581  1.03877435 -0.52193982  2.16301983]\n",
      " [-0.05870977 -0.01491114  1.3614176  -0.77920289  0.33793979]]\n"
     ]
    }
   ],
   "source": [
    "A = np.random.randn(3,4)\n",
    "B = np.random.randn(3,4)\n",
    "print(A+B)\n",
    "\n",
    "# shifting matrix\n",
    "l =.3\n",
    "N = 5\n",
    "D = np.random.randn(N,N)\n",
    "Ds= D + l*np.eye(N)\n",
    "print(Ds)"
   ]
  }
 ],
 "metadata": {
  "kernelspec": {
   "display_name": "Python 3 (ipykernel)",
   "language": "python",
   "name": "python3"
  },
  "language_info": {
   "codemirror_mode": {
    "name": "ipython",
    "version": 3
   },
   "file_extension": ".py",
   "mimetype": "text/x-python",
   "name": "python",
   "nbconvert_exporter": "python",
   "pygments_lexer": "ipython3",
   "version": "3.11.1"
  }
 },
 "nbformat": 4,
 "nbformat_minor": 5
}
