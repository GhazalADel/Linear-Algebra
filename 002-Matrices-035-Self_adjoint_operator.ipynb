{
 "cells": [
  {
   "cell_type": "code",
   "execution_count": 3,
   "id": "ae61b61e-6ad4-43da-9f1c-a616b1220480",
   "metadata": {},
   "outputs": [],
   "source": [
    "import numpy as np"
   ]
  },
  {
   "cell_type": "code",
   "execution_count": 12,
   "id": "31ee781a-dbbc-4d42-be5c-7a3c84e45874",
   "metadata": {},
   "outputs": [
    {
     "data": {
      "text/plain": [
       "-4.813691517344666"
      ]
     },
     "execution_count": 12,
     "metadata": {},
     "output_type": "execute_result"
    }
   ],
   "source": [
    "m = 4\n",
    "\n",
    "A = np.random.randn(m,m)\n",
    "v = np.random.randn(m)\n",
    "w = np.random.randn(m)\n",
    "\n",
    "np.dot(A@v,w) - np.dot(v,A@w)"
   ]
  }
 ],
 "metadata": {
  "kernelspec": {
   "display_name": "Python 3 (ipykernel)",
   "language": "python",
   "name": "python3"
  },
  "language_info": {
   "codemirror_mode": {
    "name": "ipython",
    "version": 3
   },
   "file_extension": ".py",
   "mimetype": "text/x-python",
   "name": "python",
   "nbconvert_exporter": "python",
   "pygments_lexer": "ipython3",
   "version": "3.11.1"
  }
 },
 "nbformat": 4,
 "nbformat_minor": 5
}
