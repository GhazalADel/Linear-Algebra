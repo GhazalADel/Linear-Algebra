{
 "cells": [
  {
   "cell_type": "code",
   "execution_count": 9,
   "id": "8e70a5ba-b507-4ecd-a9cf-fe99fff6f13d",
   "metadata": {},
   "outputs": [],
   "source": [
    "import numpy as np"
   ]
  },
  {
   "cell_type": "code",
   "execution_count": 10,
   "id": "6edbe496-15ba-4692-a032-99b2ca103737",
   "metadata": {},
   "outputs": [
    {
     "name": "stdout",
     "output_type": "stream",
     "text": [
      "[[0. 0. 0.]\n",
      " [0. 0. 0.]\n",
      " [0. 0. 0.]]\n",
      "\n",
      "[[  0.          -3.29064843 -18.02383767]\n",
      " [  3.29064843   0.           7.28098862]\n",
      " [ 18.02383767  -7.28098862   0.        ]]\n",
      "\n",
      "[[0. 0. 0.]\n",
      " [0. 0. 0.]\n",
      " [0. 0. 0.]]\n"
     ]
    }
   ],
   "source": [
    "n = 3\n",
    "A = np.random.randn(n,n)\n",
    "AtA = A.T@A\n",
    "\n",
    "B = np.random.randn(n,n)\n",
    "BtB = B.T@B\n",
    "\n",
    "Cs = AtA + BtB # sum\n",
    "Cm = AtA @ BtB # multiplication\n",
    "Ch = AtA * BtB # Hadmard\n",
    "\n",
    "print(Cs-Cs.T)\n",
    "print('')\n",
    "print(Cm-Cm.T)\n",
    "print('')\n",
    "print(Ch-Ch.T)"
   ]
  },
  {
   "cell_type": "code",
   "execution_count": null,
   "id": "18de178a-085f-41cd-bf6a-716a8f0e7030",
   "metadata": {},
   "outputs": [],
   "source": []
  }
 ],
 "metadata": {
  "kernelspec": {
   "display_name": "Python 3 (ipykernel)",
   "language": "python",
   "name": "python3"
  },
  "language_info": {
   "codemirror_mode": {
    "name": "ipython",
    "version": 3
   },
   "file_extension": ".py",
   "mimetype": "text/x-python",
   "name": "python",
   "nbconvert_exporter": "python",
   "pygments_lexer": "ipython3",
   "version": "3.11.1"
  }
 },
 "nbformat": 4,
 "nbformat_minor": 5
}
